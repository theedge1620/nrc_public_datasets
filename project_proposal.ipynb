{
 "cells": [
  {
   "cell_type": "markdown",
   "metadata": {},
   "source": [
    "## Jason Carneal – Final Project Proposal – GA Data Science Course\n",
    "### Problem Statement\n",
    "Using publicly-available U.S. Nuclear Regulatory Commission datasets, investigate indicators for past performance of nuclear power plants, and determine if there are any updated or modified indictors that can be used to predict performance or indicate the need for additional research.  The current indicators may not provide the best insight (e.g., all current indicators on https://www.nrc.gov/reactors/operating/oversight.html are listed as green).\n",
    "### Potential hypotheses for testing:\n",
    "•\tIf safety-significant event notifications and other available NRC indicators increase, plant performance may decrease in the future.\n",
    "### Assumptions:  \n",
    "•\tData reflected on the NRC website is accurate.\n",
    "•\tEnough data exists to perform analysis across various datasets.\n",
    "### Goals and Success Metrics:\n",
    "•\tCollect and organize relevant data\n",
    "•\tPerform EDA on datasets\n",
    "•\tUse tools learned in the data science course to investigate relationships and determine insights.\n",
    "•\tIdentify potential indicators of future plant performance.\n",
    "### Risks:\n",
    "•\tInsufficient data available on a per-site basis to establish trends.\n",
    "### Limitations:\n",
    "•\tProject is only based on publicly-available data regarding operating nuclear reactors.\n",
    "### Relevant Datasets:\n",
    "NRC High-Value Public Datasets:  https://www.nrc.gov/data/\n",
    "NRC Information Notices (already developed code for scraping): https://www.nrc.gov/reading-rm/doc-collections/gen-comm/info-notices/\n",
    "NRC Part 21 reports (already developed code for scraping):  https://www.nrc.gov/reading-rm/doc-collections/event-status/part21/\n",
    "NRC Event Notifications (available online or through exported spreadsheet): https://www.nrc.gov/reading-rm/doc-collections/event-status/event/\n",
    "NRC Reactor Oversight Process data (web scraping or download):  https://www.nrc.gov/reactors/operating/oversight.html  \n"
   ]
  },
  {
   "cell_type": "code",
   "execution_count": 1,
   "metadata": {},
   "outputs": [],
   "source": [
    "import pandas as pd"
   ]
  },
  {
   "cell_type": "code",
   "execution_count": null,
   "metadata": {},
   "outputs": [],
   "source": []
  }
 ],
 "metadata": {
  "kernelspec": {
   "display_name": "Python 3",
   "language": "python",
   "name": "python3"
  },
  "language_info": {
   "codemirror_mode": {
    "name": "ipython",
    "version": 3
   },
   "file_extension": ".py",
   "mimetype": "text/x-python",
   "name": "python",
   "nbconvert_exporter": "python",
   "pygments_lexer": "ipython3",
   "version": "3.6.5"
  }
 },
 "nbformat": 4,
 "nbformat_minor": 2
}
