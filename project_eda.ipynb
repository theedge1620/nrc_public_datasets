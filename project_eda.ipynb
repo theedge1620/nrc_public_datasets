{
 "cells": [
  {
   "cell_type": "markdown",
   "metadata": {},
   "source": [
    "## EDA Notebook for Final Project\n",
    "\n",
    "This notebook contains the EDA for the nrc_public_datasets project"
   ]
  },
  {
   "cell_type": "code",
   "execution_count": 3,
   "metadata": {},
   "outputs": [],
   "source": [
    "# import modules:\n",
    "import pandas as pd"
   ]
  },
  {
   "cell_type": "markdown",
   "metadata": {},
   "source": [
    "#### Let's load in all the datasets\n",
    "\n",
    "Note, the files loaded here were either scraped from the web or manually downloaded and combined separately using pandas.  See the .py files in the main directory for these supporting codes.\n",
    "\n",
    "Load in licensee event reports since 1991, information notices, and generic issues."
   ]
  },
  {
   "cell_type": "code",
   "execution_count": 4,
   "metadata": {},
   "outputs": [],
   "source": [
    "licensee_event_reports = pd.read_excel(\"./data/all_LERs.xlsx\")\n",
    "information_notices = pd.read_excel(\"./data/Information Notices - Scraped from Public Site.xlsx\")\n",
    "generic_safety_issues = pd.read_excel(\"./data/generic-issues-dataset.xls\")"
   ]
  },
  {
   "cell_type": "markdown",
   "metadata": {},
   "source": [
    "#### Let's just look at the heads of each file first to see what we have collected\n",
    "\n",
    "Display the heads of each dataset."
   ]
  },
  {
   "cell_type": "code",
   "execution_count": 5,
   "metadata": {},
   "outputs": [
    {
     "data": {
      "text/html": [
       "<div>\n",
       "<style scoped>\n",
       "    .dataframe tbody tr th:only-of-type {\n",
       "        vertical-align: middle;\n",
       "    }\n",
       "\n",
       "    .dataframe tbody tr th {\n",
       "        vertical-align: top;\n",
       "    }\n",
       "\n",
       "    .dataframe thead th {\n",
       "        text-align: right;\n",
       "    }\n",
       "</style>\n",
       "<table border=\"1\" class=\"dataframe\">\n",
       "  <thead>\n",
       "    <tr style=\"text-align: right;\">\n",
       "      <th></th>\n",
       "      <th>LER Number</th>\n",
       "      <th>Plant Name</th>\n",
       "      <th>Event Date</th>\n",
       "      <th>Report Date</th>\n",
       "      <th>Accession #</th>\n",
       "      <th>Title</th>\n",
       "    </tr>\n",
       "  </thead>\n",
       "  <tbody>\n",
       "    <tr>\n",
       "      <th>0</th>\n",
       "      <td>291991001</td>\n",
       "      <td>Yankee-Rowe</td>\n",
       "      <td>02/26/1991</td>\n",
       "      <td>03/28/1991</td>\n",
       "      <td>9104030139</td>\n",
       "      <td>&lt;strong&gt;Inadequate Quality Controls Result in ...</td>\n",
       "    </tr>\n",
       "    <tr>\n",
       "      <th>1</th>\n",
       "      <td>291991002</td>\n",
       "      <td>Yankee-Rowe</td>\n",
       "      <td>06/15/1991</td>\n",
       "      <td>07/16/1991</td>\n",
       "      <td>9107220232</td>\n",
       "      <td>&lt;strong&gt;Reactor Scram/Turbine Trip and Loss of...</td>\n",
       "    </tr>\n",
       "    <tr>\n",
       "      <th>2</th>\n",
       "      <td>291991003</td>\n",
       "      <td>Yankee-Rowe</td>\n",
       "      <td>08/01/1991</td>\n",
       "      <td>08/30/1991</td>\n",
       "      <td>9109040225</td>\n",
       "      <td>&lt;strong&gt;Failure to Perform Surveillances Requi...</td>\n",
       "    </tr>\n",
       "    <tr>\n",
       "      <th>3</th>\n",
       "      <td>291991004</td>\n",
       "      <td>Yankee-Rowe</td>\n",
       "      <td>08/03/1991</td>\n",
       "      <td>09/02/1991</td>\n",
       "      <td>9109040086</td>\n",
       "      <td>&lt;strong&gt;Reactor Scram Due To Loss Of Generator...</td>\n",
       "    </tr>\n",
       "    <tr>\n",
       "      <th>4</th>\n",
       "      <td>291991005</td>\n",
       "      <td>Yankee-Rowe</td>\n",
       "      <td>11/05/1991</td>\n",
       "      <td>12/04/1991</td>\n",
       "      <td>9112090331</td>\n",
       "      <td>&lt;strong&gt;All Emergency Diesel Generators Declar...</td>\n",
       "    </tr>\n",
       "  </tbody>\n",
       "</table>\n",
       "</div>"
      ],
      "text/plain": [
       "   LER Number   Plant Name  Event Date Report Date Accession #  \\\n",
       "0   291991001  Yankee-Rowe  02/26/1991  03/28/1991  9104030139   \n",
       "1   291991002  Yankee-Rowe  06/15/1991  07/16/1991  9107220232   \n",
       "2   291991003  Yankee-Rowe  08/01/1991  08/30/1991  9109040225   \n",
       "3   291991004  Yankee-Rowe  08/03/1991  09/02/1991  9109040086   \n",
       "4   291991005  Yankee-Rowe  11/05/1991  12/04/1991  9112090331   \n",
       "\n",
       "                                               Title  \n",
       "0  <strong>Inadequate Quality Controls Result in ...  \n",
       "1  <strong>Reactor Scram/Turbine Trip and Loss of...  \n",
       "2  <strong>Failure to Perform Surveillances Requi...  \n",
       "3  <strong>Reactor Scram Due To Loss Of Generator...  \n",
       "4  <strong>All Emergency Diesel Generators Declar...  "
      ]
     },
     "execution_count": 5,
     "metadata": {},
     "output_type": "execute_result"
    }
   ],
   "source": [
    "licensee_event_reports.head()"
   ]
  },
  {
   "cell_type": "code",
   "execution_count": 6,
   "metadata": {},
   "outputs": [
    {
     "data": {
      "text/html": [
       "<div>\n",
       "<style scoped>\n",
       "    .dataframe tbody tr th:only-of-type {\n",
       "        vertical-align: middle;\n",
       "    }\n",
       "\n",
       "    .dataframe tbody tr th {\n",
       "        vertical-align: top;\n",
       "    }\n",
       "\n",
       "    .dataframe thead th {\n",
       "        text-align: right;\n",
       "    }\n",
       "</style>\n",
       "<table border=\"1\" class=\"dataframe\">\n",
       "  <thead>\n",
       "    <tr style=\"text-align: right;\">\n",
       "      <th></th>\n",
       "      <th>Number</th>\n",
       "      <th>Title</th>\n",
       "      <th>Date</th>\n",
       "      <th>Link</th>\n",
       "    </tr>\n",
       "  </thead>\n",
       "  <tbody>\n",
       "    <tr>\n",
       "      <th>0</th>\n",
       "      <td>IN-79-37</td>\n",
       "      <td>Cracking in Low Pressure Turbine Discs</td>\n",
       "      <td>12/28/1979</td>\n",
       "      <td>https://www.nrc.gov/reading-rm/doc-collections...</td>\n",
       "    </tr>\n",
       "    <tr>\n",
       "      <th>1</th>\n",
       "      <td>IN-79-36</td>\n",
       "      <td>Computer Code Defect in Stress Analysis of Pip...</td>\n",
       "      <td>12/31/1979</td>\n",
       "      <td>https://www.nrc.gov/reading-rm/doc-collections...</td>\n",
       "    </tr>\n",
       "    <tr>\n",
       "      <th>2</th>\n",
       "      <td>IN-79-35</td>\n",
       "      <td>Control of Maintenance and Essential Equipment</td>\n",
       "      <td>12/31/1979</td>\n",
       "      <td>https://www.nrc.gov/reading-rm/doc-collections...</td>\n",
       "    </tr>\n",
       "    <tr>\n",
       "      <th>3</th>\n",
       "      <td>IN-79-34</td>\n",
       "      <td>Inadequate Design of Safety-Related Heat Excha...</td>\n",
       "      <td>12/27/1979</td>\n",
       "      <td>https://www.nrc.gov/reading-rm/doc-collections...</td>\n",
       "    </tr>\n",
       "    <tr>\n",
       "      <th>4</th>\n",
       "      <td>IN-79-33</td>\n",
       "      <td>Improper Closure of Primary Containment Access...</td>\n",
       "      <td>12/21/1979</td>\n",
       "      <td>https://www.nrc.gov/reading-rm/doc-collections...</td>\n",
       "    </tr>\n",
       "  </tbody>\n",
       "</table>\n",
       "</div>"
      ],
      "text/plain": [
       "     Number                                              Title        Date  \\\n",
       "0  IN-79-37             Cracking in Low Pressure Turbine Discs  12/28/1979   \n",
       "1  IN-79-36  Computer Code Defect in Stress Analysis of Pip...  12/31/1979   \n",
       "2  IN-79-35     Control of Maintenance and Essential Equipment  12/31/1979   \n",
       "3  IN-79-34  Inadequate Design of Safety-Related Heat Excha...  12/27/1979   \n",
       "4  IN-79-33  Improper Closure of Primary Containment Access...  12/21/1979   \n",
       "\n",
       "                                                Link  \n",
       "0  https://www.nrc.gov/reading-rm/doc-collections...  \n",
       "1  https://www.nrc.gov/reading-rm/doc-collections...  \n",
       "2  https://www.nrc.gov/reading-rm/doc-collections...  \n",
       "3  https://www.nrc.gov/reading-rm/doc-collections...  \n",
       "4  https://www.nrc.gov/reading-rm/doc-collections...  "
      ]
     },
     "execution_count": 6,
     "metadata": {},
     "output_type": "execute_result"
    }
   ],
   "source": [
    "information_notices.head()"
   ]
  },
  {
   "cell_type": "markdown",
   "metadata": {},
   "source": [
    "Check Generic Safety Issues:"
   ]
  },
  {
   "cell_type": "code",
   "execution_count": 7,
   "metadata": {},
   "outputs": [
    {
     "data": {
      "text/html": [
       "<div>\n",
       "<style scoped>\n",
       "    .dataframe tbody tr th:only-of-type {\n",
       "        vertical-align: middle;\n",
       "    }\n",
       "\n",
       "    .dataframe tbody tr th {\n",
       "        vertical-align: top;\n",
       "    }\n",
       "\n",
       "    .dataframe thead th {\n",
       "        text-align: right;\n",
       "    }\n",
       "</style>\n",
       "<table border=\"1\" class=\"dataframe\">\n",
       "  <thead>\n",
       "    <tr style=\"text-align: right;\">\n",
       "      <th></th>\n",
       "      <th>Issue Number</th>\n",
       "      <th>Issue Title</th>\n",
       "      <th>Issue Description</th>\n",
       "      <th>Project Manager</th>\n",
       "      <th>Lead Branch</th>\n",
       "      <th>Status / Priority Ranking</th>\n",
       "      <th>Resolution Result</th>\n",
       "      <th>Resolution Product Category</th>\n",
       "      <th>Issue Revision Number</th>\n",
       "      <th>Date of Identification</th>\n",
       "      <th>Date of Resolution</th>\n",
       "      <th>Multi-Plant Action Number</th>\n",
       "      <th>Related Technical Area</th>\n",
       "      <th>Facility Types</th>\n",
       "      <th>Related Generic Issues</th>\n",
       "      <th>Related Generic Communications</th>\n",
       "      <th>Related Industry Documents</th>\n",
       "      <th>Related Events</th>\n",
       "      <th>Additional Information</th>\n",
       "    </tr>\n",
       "  </thead>\n",
       "  <tbody>\n",
       "    <tr>\n",
       "      <th>0</th>\n",
       "      <td>I.A.1.1</td>\n",
       "      <td>OPERATING PERSONNEL: Operating Personnel and S...</td>\n",
       "      <td>http://www.nrc.gov/reading-rm/doc-collections/...</td>\n",
       "      <td>-</td>\n",
       "      <td>NRR/DHFS/LQB</td>\n",
       "      <td>I (Resolved TMI Action Plan item  by NUREG-0737)</td>\n",
       "      <td>NaN</td>\n",
       "      <td>NaN</td>\n",
       "      <td>3.0</td>\n",
       "      <td>1979-10-30</td>\n",
       "      <td>1997-12-31</td>\n",
       "      <td>F-01</td>\n",
       "      <td>Human Performance, Other</td>\n",
       "      <td>All Light Water Power Reactors</td>\n",
       "      <td>NaN</td>\n",
       "      <td>NaN</td>\n",
       "      <td>NaN</td>\n",
       "      <td>NaN</td>\n",
       "      <td>NaN</td>\n",
       "    </tr>\n",
       "    <tr>\n",
       "      <th>1</th>\n",
       "      <td>I.A.1.2</td>\n",
       "      <td>OPERATING PERSONNEL: Operating Personnel and S...</td>\n",
       "      <td>http://www.nrc.gov/reading-rm/doc-collections/...</td>\n",
       "      <td>-</td>\n",
       "      <td>NRR/DHFS/LQB</td>\n",
       "      <td>I (Resolved TMI Action Plan item  by NUREG-0737)</td>\n",
       "      <td>NaN</td>\n",
       "      <td>NaN</td>\n",
       "      <td>3.0</td>\n",
       "      <td>1979-10-30</td>\n",
       "      <td>1997-12-31</td>\n",
       "      <td>NaN</td>\n",
       "      <td>Human Performance, Other</td>\n",
       "      <td>All Light Water Power Reactors</td>\n",
       "      <td>NaN</td>\n",
       "      <td>NaN</td>\n",
       "      <td>NaN</td>\n",
       "      <td>NaN</td>\n",
       "      <td>NaN</td>\n",
       "    </tr>\n",
       "    <tr>\n",
       "      <th>2</th>\n",
       "      <td>I.A.1.3</td>\n",
       "      <td>OPERATING PERSONNEL: Operating Personnel and S...</td>\n",
       "      <td>http://www.nrc.gov/reading-rm/doc-collections/...</td>\n",
       "      <td>-</td>\n",
       "      <td>NRR/DHFS/LQB</td>\n",
       "      <td>I (Resolved TMI Action Plan item  by NUREG-0737)</td>\n",
       "      <td>NaN</td>\n",
       "      <td>NaN</td>\n",
       "      <td>3.0</td>\n",
       "      <td>1979-10-30</td>\n",
       "      <td>1997-12-31</td>\n",
       "      <td>F-02</td>\n",
       "      <td>Human Performance, Worker Fatigue</td>\n",
       "      <td>All Light Water Power Reactors</td>\n",
       "      <td>NaN</td>\n",
       "      <td>NaN</td>\n",
       "      <td>NaN</td>\n",
       "      <td>NaN</td>\n",
       "      <td>NaN</td>\n",
       "    </tr>\n",
       "    <tr>\n",
       "      <th>3</th>\n",
       "      <td>I.A.1.4</td>\n",
       "      <td>OPERATING PERSONNEL: Operating Personnel and S...</td>\n",
       "      <td>http://www.nrc.gov/reading-rm/doc-collections/...</td>\n",
       "      <td>R. Colmar</td>\n",
       "      <td>RES/DFO/HFBR</td>\n",
       "      <td>Resolved with Products (NOTE 3a)</td>\n",
       "      <td>NaN</td>\n",
       "      <td>Policy and Rules</td>\n",
       "      <td>3.0</td>\n",
       "      <td>1979-10-30</td>\n",
       "      <td>1987-01-06</td>\n",
       "      <td>NaN</td>\n",
       "      <td>Human Performance, Worker Fatigue</td>\n",
       "      <td>All Light Water Power Reactors</td>\n",
       "      <td>NaN</td>\n",
       "      <td>NaN</td>\n",
       "      <td>NUREG-0660, SECY-81-440, SECY-83-52A</td>\n",
       "      <td>NaN</td>\n",
       "      <td>NaN</td>\n",
       "    </tr>\n",
       "    <tr>\n",
       "      <th>4</th>\n",
       "      <td>I.A.2.1(1)</td>\n",
       "      <td>OPERATING PERSONNEL: Training and Qualificatio...</td>\n",
       "      <td>http://www.nrc.gov/reading-rm/doc-collections/...</td>\n",
       "      <td>-</td>\n",
       "      <td>NRR/DHFS/LQB</td>\n",
       "      <td>I (Resolved TMI Action Plan item  by NUREG-0737)</td>\n",
       "      <td>NaN</td>\n",
       "      <td>NaN</td>\n",
       "      <td>6.0</td>\n",
       "      <td>1979-10-30</td>\n",
       "      <td>1997-12-31</td>\n",
       "      <td>F-03</td>\n",
       "      <td>Human Performance</td>\n",
       "      <td>All Light Water Power Reactors</td>\n",
       "      <td>NaN</td>\n",
       "      <td>NaN</td>\n",
       "      <td>NUREG-0660</td>\n",
       "      <td>NaN</td>\n",
       "      <td>NaN</td>\n",
       "    </tr>\n",
       "  </tbody>\n",
       "</table>\n",
       "</div>"
      ],
      "text/plain": [
       "  Issue Number                                        Issue Title  \\\n",
       "0      I.A.1.1  OPERATING PERSONNEL: Operating Personnel and S...   \n",
       "1      I.A.1.2  OPERATING PERSONNEL: Operating Personnel and S...   \n",
       "2      I.A.1.3  OPERATING PERSONNEL: Operating Personnel and S...   \n",
       "3      I.A.1.4  OPERATING PERSONNEL: Operating Personnel and S...   \n",
       "4   I.A.2.1(1)  OPERATING PERSONNEL: Training and Qualificatio...   \n",
       "\n",
       "                                   Issue Description Project Manager  \\\n",
       "0  http://www.nrc.gov/reading-rm/doc-collections/...               -   \n",
       "1  http://www.nrc.gov/reading-rm/doc-collections/...               -   \n",
       "2  http://www.nrc.gov/reading-rm/doc-collections/...               -   \n",
       "3  http://www.nrc.gov/reading-rm/doc-collections/...       R. Colmar   \n",
       "4  http://www.nrc.gov/reading-rm/doc-collections/...               -   \n",
       "\n",
       "    Lead Branch                         Status / Priority Ranking  \\\n",
       "0  NRR/DHFS/LQB  I (Resolved TMI Action Plan item  by NUREG-0737)   \n",
       "1  NRR/DHFS/LQB  I (Resolved TMI Action Plan item  by NUREG-0737)   \n",
       "2  NRR/DHFS/LQB  I (Resolved TMI Action Plan item  by NUREG-0737)   \n",
       "3  RES/DFO/HFBR                  Resolved with Products (NOTE 3a)   \n",
       "4  NRR/DHFS/LQB  I (Resolved TMI Action Plan item  by NUREG-0737)   \n",
       "\n",
       "  Resolution Result Resolution Product Category  Issue Revision Number  \\\n",
       "0               NaN                         NaN                    3.0   \n",
       "1               NaN                         NaN                    3.0   \n",
       "2               NaN                         NaN                    3.0   \n",
       "3               NaN            Policy and Rules                    3.0   \n",
       "4               NaN                         NaN                    6.0   \n",
       "\n",
       "  Date of Identification Date of Resolution Multi-Plant Action Number  \\\n",
       "0             1979-10-30         1997-12-31                      F-01   \n",
       "1             1979-10-30         1997-12-31                       NaN   \n",
       "2             1979-10-30         1997-12-31                      F-02   \n",
       "3             1979-10-30         1987-01-06                       NaN   \n",
       "4             1979-10-30         1997-12-31                      F-03   \n",
       "\n",
       "              Related Technical Area                  Facility Types  \\\n",
       "0           Human Performance, Other  All Light Water Power Reactors   \n",
       "1           Human Performance, Other  All Light Water Power Reactors   \n",
       "2  Human Performance, Worker Fatigue  All Light Water Power Reactors   \n",
       "3  Human Performance, Worker Fatigue  All Light Water Power Reactors   \n",
       "4                  Human Performance  All Light Water Power Reactors   \n",
       "\n",
       "  Related Generic Issues Related Generic Communications  \\\n",
       "0                    NaN                            NaN   \n",
       "1                    NaN                            NaN   \n",
       "2                    NaN                            NaN   \n",
       "3                    NaN                            NaN   \n",
       "4                    NaN                            NaN   \n",
       "\n",
       "             Related Industry Documents Related Events Additional Information  \n",
       "0                                   NaN            NaN                    NaN  \n",
       "1                                   NaN            NaN                    NaN  \n",
       "2                                   NaN            NaN                    NaN  \n",
       "3  NUREG-0660, SECY-81-440, SECY-83-52A            NaN                    NaN  \n",
       "4                            NUREG-0660            NaN                    NaN  "
      ]
     },
     "execution_count": 7,
     "metadata": {},
     "output_type": "execute_result"
    }
   ],
   "source": [
    "generic_safety_issues.head()"
   ]
  },
  {
   "cell_type": "markdown",
   "metadata": {},
   "source": [
    "Let's take a look at the datatypes in each dataframe:"
   ]
  },
  {
   "cell_type": "code",
   "execution_count": 8,
   "metadata": {},
   "outputs": [
    {
     "data": {
      "text/html": [
       "<div>\n",
       "<style scoped>\n",
       "    .dataframe tbody tr th:only-of-type {\n",
       "        vertical-align: middle;\n",
       "    }\n",
       "\n",
       "    .dataframe tbody tr th {\n",
       "        vertical-align: top;\n",
       "    }\n",
       "\n",
       "    .dataframe thead th {\n",
       "        text-align: right;\n",
       "    }\n",
       "</style>\n",
       "<table border=\"1\" class=\"dataframe\">\n",
       "  <thead>\n",
       "    <tr style=\"text-align: right;\">\n",
       "      <th></th>\n",
       "      <th>DataType</th>\n",
       "    </tr>\n",
       "  </thead>\n",
       "  <tbody>\n",
       "    <tr>\n",
       "      <th>LER Number</th>\n",
       "      <td>int64</td>\n",
       "    </tr>\n",
       "    <tr>\n",
       "      <th>Plant Name</th>\n",
       "      <td>object</td>\n",
       "    </tr>\n",
       "    <tr>\n",
       "      <th>Event Date</th>\n",
       "      <td>object</td>\n",
       "    </tr>\n",
       "    <tr>\n",
       "      <th>Report Date</th>\n",
       "      <td>object</td>\n",
       "    </tr>\n",
       "    <tr>\n",
       "      <th>Accession #</th>\n",
       "      <td>object</td>\n",
       "    </tr>\n",
       "    <tr>\n",
       "      <th>Title</th>\n",
       "      <td>object</td>\n",
       "    </tr>\n",
       "  </tbody>\n",
       "</table>\n",
       "</div>"
      ],
      "text/plain": [
       "            DataType\n",
       "LER Number     int64\n",
       "Plant Name    object\n",
       "Event Date    object\n",
       "Report Date   object\n",
       "Accession #   object\n",
       "Title         object"
      ]
     },
     "execution_count": 8,
     "metadata": {},
     "output_type": "execute_result"
    }
   ],
   "source": [
    "pd.DataFrame(licensee_event_reports.dtypes, columns=['DataType'])"
   ]
  },
  {
   "cell_type": "code",
   "execution_count": 9,
   "metadata": {},
   "outputs": [
    {
     "data": {
      "text/html": [
       "<div>\n",
       "<style scoped>\n",
       "    .dataframe tbody tr th:only-of-type {\n",
       "        vertical-align: middle;\n",
       "    }\n",
       "\n",
       "    .dataframe tbody tr th {\n",
       "        vertical-align: top;\n",
       "    }\n",
       "\n",
       "    .dataframe thead th {\n",
       "        text-align: right;\n",
       "    }\n",
       "</style>\n",
       "<table border=\"1\" class=\"dataframe\">\n",
       "  <thead>\n",
       "    <tr style=\"text-align: right;\">\n",
       "      <th></th>\n",
       "      <th>DataType</th>\n",
       "    </tr>\n",
       "  </thead>\n",
       "  <tbody>\n",
       "    <tr>\n",
       "      <th>Number</th>\n",
       "      <td>object</td>\n",
       "    </tr>\n",
       "    <tr>\n",
       "      <th>Title</th>\n",
       "      <td>object</td>\n",
       "    </tr>\n",
       "    <tr>\n",
       "      <th>Date</th>\n",
       "      <td>object</td>\n",
       "    </tr>\n",
       "    <tr>\n",
       "      <th>Link</th>\n",
       "      <td>object</td>\n",
       "    </tr>\n",
       "  </tbody>\n",
       "</table>\n",
       "</div>"
      ],
      "text/plain": [
       "       DataType\n",
       "Number   object\n",
       "Title    object\n",
       "Date     object\n",
       "Link     object"
      ]
     },
     "execution_count": 9,
     "metadata": {},
     "output_type": "execute_result"
    }
   ],
   "source": [
    "pd.DataFrame(information_notices.dtypes, columns=['DataType'])"
   ]
  },
  {
   "cell_type": "code",
   "execution_count": 10,
   "metadata": {},
   "outputs": [
    {
     "data": {
      "text/html": [
       "<div>\n",
       "<style scoped>\n",
       "    .dataframe tbody tr th:only-of-type {\n",
       "        vertical-align: middle;\n",
       "    }\n",
       "\n",
       "    .dataframe tbody tr th {\n",
       "        vertical-align: top;\n",
       "    }\n",
       "\n",
       "    .dataframe thead th {\n",
       "        text-align: right;\n",
       "    }\n",
       "</style>\n",
       "<table border=\"1\" class=\"dataframe\">\n",
       "  <thead>\n",
       "    <tr style=\"text-align: right;\">\n",
       "      <th></th>\n",
       "      <th>DataType</th>\n",
       "    </tr>\n",
       "  </thead>\n",
       "  <tbody>\n",
       "    <tr>\n",
       "      <th>Issue Number</th>\n",
       "      <td>object</td>\n",
       "    </tr>\n",
       "    <tr>\n",
       "      <th>Issue Title</th>\n",
       "      <td>object</td>\n",
       "    </tr>\n",
       "    <tr>\n",
       "      <th>Issue Description</th>\n",
       "      <td>object</td>\n",
       "    </tr>\n",
       "    <tr>\n",
       "      <th>Project Manager</th>\n",
       "      <td>object</td>\n",
       "    </tr>\n",
       "    <tr>\n",
       "      <th>Lead Branch</th>\n",
       "      <td>object</td>\n",
       "    </tr>\n",
       "    <tr>\n",
       "      <th>Status / Priority Ranking</th>\n",
       "      <td>object</td>\n",
       "    </tr>\n",
       "    <tr>\n",
       "      <th>Resolution Result</th>\n",
       "      <td>object</td>\n",
       "    </tr>\n",
       "    <tr>\n",
       "      <th>Resolution Product Category</th>\n",
       "      <td>object</td>\n",
       "    </tr>\n",
       "    <tr>\n",
       "      <th>Issue Revision Number</th>\n",
       "      <td>float64</td>\n",
       "    </tr>\n",
       "    <tr>\n",
       "      <th>Date of Identification</th>\n",
       "      <td>datetime64[ns]</td>\n",
       "    </tr>\n",
       "    <tr>\n",
       "      <th>Date of Resolution</th>\n",
       "      <td>datetime64[ns]</td>\n",
       "    </tr>\n",
       "    <tr>\n",
       "      <th>Multi-Plant Action Number</th>\n",
       "      <td>object</td>\n",
       "    </tr>\n",
       "    <tr>\n",
       "      <th>Related Technical Area</th>\n",
       "      <td>object</td>\n",
       "    </tr>\n",
       "    <tr>\n",
       "      <th>Facility Types</th>\n",
       "      <td>object</td>\n",
       "    </tr>\n",
       "    <tr>\n",
       "      <th>Related Generic Issues</th>\n",
       "      <td>object</td>\n",
       "    </tr>\n",
       "    <tr>\n",
       "      <th>Related Generic Communications</th>\n",
       "      <td>object</td>\n",
       "    </tr>\n",
       "    <tr>\n",
       "      <th>Related Industry Documents</th>\n",
       "      <td>object</td>\n",
       "    </tr>\n",
       "    <tr>\n",
       "      <th>Related Events</th>\n",
       "      <td>object</td>\n",
       "    </tr>\n",
       "    <tr>\n",
       "      <th>Additional Information</th>\n",
       "      <td>object</td>\n",
       "    </tr>\n",
       "  </tbody>\n",
       "</table>\n",
       "</div>"
      ],
      "text/plain": [
       "                                      DataType\n",
       "Issue Number                            object\n",
       "Issue Title                             object\n",
       "Issue Description                       object\n",
       "Project Manager                         object\n",
       "Lead Branch                             object\n",
       "Status / Priority Ranking               object\n",
       "Resolution Result                       object\n",
       "Resolution Product Category             object\n",
       "Issue Revision Number                  float64\n",
       "Date of Identification          datetime64[ns]\n",
       "Date of Resolution              datetime64[ns]\n",
       "Multi-Plant Action Number               object\n",
       "Related Technical Area                  object\n",
       "Facility Types                          object\n",
       "Related Generic Issues                  object\n",
       "Related Generic Communications          object\n",
       "Related Industry Documents              object\n",
       "Related Events                          object\n",
       "Additional Information                  object"
      ]
     },
     "execution_count": 10,
     "metadata": {},
     "output_type": "execute_result"
    }
   ],
   "source": [
    "pd.DataFrame(generic_safety_issues.dtypes, columns=['DataType'])"
   ]
  },
  {
   "cell_type": "markdown",
   "metadata": {},
   "source": [
    "#### Converting and Cleaning up the data\n",
    "\n",
    "From the above, a lot of the date fields were not automatically detected as such.  To do trending, we need to fix the data types first.  The generic_safety_issue dataframe correctly loaded the pertinent dates as datetime64, but the others did not.  Let's convert the date columns to dates:"
   ]
  },
  {
   "cell_type": "code",
   "execution_count": 11,
   "metadata": {},
   "outputs": [
    {
     "data": {
      "text/plain": [
       "0    03/28/1991\n",
       "1    07/16/1991\n",
       "2    08/30/1991\n",
       "Name: Report Date, dtype: object"
      ]
     },
     "execution_count": 11,
     "metadata": {},
     "output_type": "execute_result"
    }
   ],
   "source": [
    "licensee_event_reports['Report Date'].head(3)"
   ]
  },
  {
   "cell_type": "markdown",
   "metadata": {},
   "source": [
    "Let's convert the dates using the pandas function to_datetime using inference:"
   ]
  },
  {
   "cell_type": "code",
   "execution_count": 12,
   "metadata": {},
   "outputs": [],
   "source": [
    "licensee_event_reports['Report Date']=pd.to_datetime(licensee_event_reports['Report Date'],infer_datetime_format=True)\n",
    "licensee_event_reports['Event Date']=pd.to_datetime(licensee_event_reports['Event Date'],infer_datetime_format=True)"
   ]
  },
  {
   "cell_type": "code",
   "execution_count": 13,
   "metadata": {},
   "outputs": [
    {
     "data": {
      "text/html": [
       "<div>\n",
       "<style scoped>\n",
       "    .dataframe tbody tr th:only-of-type {\n",
       "        vertical-align: middle;\n",
       "    }\n",
       "\n",
       "    .dataframe tbody tr th {\n",
       "        vertical-align: top;\n",
       "    }\n",
       "\n",
       "    .dataframe thead th {\n",
       "        text-align: right;\n",
       "    }\n",
       "</style>\n",
       "<table border=\"1\" class=\"dataframe\">\n",
       "  <thead>\n",
       "    <tr style=\"text-align: right;\">\n",
       "      <th></th>\n",
       "      <th>LER Number</th>\n",
       "      <th>Plant Name</th>\n",
       "      <th>Event Date</th>\n",
       "      <th>Report Date</th>\n",
       "      <th>Accession #</th>\n",
       "      <th>Title</th>\n",
       "    </tr>\n",
       "  </thead>\n",
       "  <tbody>\n",
       "    <tr>\n",
       "      <th>0</th>\n",
       "      <td>291991001</td>\n",
       "      <td>Yankee-Rowe</td>\n",
       "      <td>1991-02-26</td>\n",
       "      <td>1991-03-28</td>\n",
       "      <td>9104030139</td>\n",
       "      <td>&lt;strong&gt;Inadequate Quality Controls Result in ...</td>\n",
       "    </tr>\n",
       "    <tr>\n",
       "      <th>1</th>\n",
       "      <td>291991002</td>\n",
       "      <td>Yankee-Rowe</td>\n",
       "      <td>1991-06-15</td>\n",
       "      <td>1991-07-16</td>\n",
       "      <td>9107220232</td>\n",
       "      <td>&lt;strong&gt;Reactor Scram/Turbine Trip and Loss of...</td>\n",
       "    </tr>\n",
       "    <tr>\n",
       "      <th>2</th>\n",
       "      <td>291991003</td>\n",
       "      <td>Yankee-Rowe</td>\n",
       "      <td>1991-08-01</td>\n",
       "      <td>1991-08-30</td>\n",
       "      <td>9109040225</td>\n",
       "      <td>&lt;strong&gt;Failure to Perform Surveillances Requi...</td>\n",
       "    </tr>\n",
       "  </tbody>\n",
       "</table>\n",
       "</div>"
      ],
      "text/plain": [
       "   LER Number   Plant Name Event Date Report Date Accession #  \\\n",
       "0   291991001  Yankee-Rowe 1991-02-26  1991-03-28  9104030139   \n",
       "1   291991002  Yankee-Rowe 1991-06-15  1991-07-16  9107220232   \n",
       "2   291991003  Yankee-Rowe 1991-08-01  1991-08-30  9109040225   \n",
       "\n",
       "                                               Title  \n",
       "0  <strong>Inadequate Quality Controls Result in ...  \n",
       "1  <strong>Reactor Scram/Turbine Trip and Loss of...  \n",
       "2  <strong>Failure to Perform Surveillances Requi...  "
      ]
     },
     "execution_count": 13,
     "metadata": {},
     "output_type": "execute_result"
    }
   ],
   "source": [
    "licensee_event_reports.head(3)"
   ]
  },
  {
   "cell_type": "code",
   "execution_count": 14,
   "metadata": {},
   "outputs": [
    {
     "data": {
      "text/html": [
       "<div>\n",
       "<style scoped>\n",
       "    .dataframe tbody tr th:only-of-type {\n",
       "        vertical-align: middle;\n",
       "    }\n",
       "\n",
       "    .dataframe tbody tr th {\n",
       "        vertical-align: top;\n",
       "    }\n",
       "\n",
       "    .dataframe thead th {\n",
       "        text-align: right;\n",
       "    }\n",
       "</style>\n",
       "<table border=\"1\" class=\"dataframe\">\n",
       "  <thead>\n",
       "    <tr style=\"text-align: right;\">\n",
       "      <th></th>\n",
       "      <th>DataType</th>\n",
       "    </tr>\n",
       "  </thead>\n",
       "  <tbody>\n",
       "    <tr>\n",
       "      <th>LER Number</th>\n",
       "      <td>int64</td>\n",
       "    </tr>\n",
       "    <tr>\n",
       "      <th>Plant Name</th>\n",
       "      <td>object</td>\n",
       "    </tr>\n",
       "    <tr>\n",
       "      <th>Event Date</th>\n",
       "      <td>datetime64[ns]</td>\n",
       "    </tr>\n",
       "    <tr>\n",
       "      <th>Report Date</th>\n",
       "      <td>datetime64[ns]</td>\n",
       "    </tr>\n",
       "    <tr>\n",
       "      <th>Accession #</th>\n",
       "      <td>object</td>\n",
       "    </tr>\n",
       "    <tr>\n",
       "      <th>Title</th>\n",
       "      <td>object</td>\n",
       "    </tr>\n",
       "  </tbody>\n",
       "</table>\n",
       "</div>"
      ],
      "text/plain": [
       "                   DataType\n",
       "LER Number            int64\n",
       "Plant Name           object\n",
       "Event Date   datetime64[ns]\n",
       "Report Date  datetime64[ns]\n",
       "Accession #          object\n",
       "Title                object"
      ]
     },
     "execution_count": 14,
     "metadata": {},
     "output_type": "execute_result"
    }
   ],
   "source": [
    "pd.DataFrame(licensee_event_reports.dtypes, columns=['DataType'])"
   ]
  },
  {
   "cell_type": "markdown",
   "metadata": {},
   "source": [
    "This works for the licensee_event_reports dataframe, but when we try to do the same for information_notices, we get the following error:"
   ]
  },
  {
   "cell_type": "code",
   "execution_count": 15,
   "metadata": {},
   "outputs": [
    {
     "ename": "ValueError",
     "evalue": "('Unknown string format:', 'Not Issued')",
     "output_type": "error",
     "traceback": [
      "\u001b[1;31m---------------------------------------------------------------------------\u001b[0m",
      "\u001b[1;31mTypeError\u001b[0m                                 Traceback (most recent call last)",
      "\u001b[1;32m~\\AppData\\Local\\Continuum\\anaconda3\\lib\\site-packages\\pandas\\core\\tools\\datetimes.py\u001b[0m in \u001b[0;36m_convert_listlike\u001b[1;34m(arg, box, format, name, tz)\u001b[0m\n\u001b[0;32m    376\u001b[0m             \u001b[1;32mtry\u001b[0m\u001b[1;33m:\u001b[0m\u001b[1;33m\u001b[0m\u001b[0m\n\u001b[1;32m--> 377\u001b[1;33m                 \u001b[0mvalues\u001b[0m\u001b[1;33m,\u001b[0m \u001b[0mtz\u001b[0m \u001b[1;33m=\u001b[0m \u001b[0mconversion\u001b[0m\u001b[1;33m.\u001b[0m\u001b[0mdatetime_to_datetime64\u001b[0m\u001b[1;33m(\u001b[0m\u001b[0marg\u001b[0m\u001b[1;33m)\u001b[0m\u001b[1;33m\u001b[0m\u001b[0m\n\u001b[0m\u001b[0;32m    378\u001b[0m                 \u001b[1;32mreturn\u001b[0m \u001b[0mDatetimeIndex\u001b[0m\u001b[1;33m.\u001b[0m\u001b[0m_simple_new\u001b[0m\u001b[1;33m(\u001b[0m\u001b[0mvalues\u001b[0m\u001b[1;33m,\u001b[0m \u001b[0mname\u001b[0m\u001b[1;33m=\u001b[0m\u001b[0mname\u001b[0m\u001b[1;33m,\u001b[0m \u001b[0mtz\u001b[0m\u001b[1;33m=\u001b[0m\u001b[0mtz\u001b[0m\u001b[1;33m)\u001b[0m\u001b[1;33m\u001b[0m\u001b[0m\n",
      "\u001b[1;32mpandas\\_libs\\tslibs\\conversion.pyx\u001b[0m in \u001b[0;36mpandas._libs.tslibs.conversion.datetime_to_datetime64\u001b[1;34m()\u001b[0m\n",
      "\u001b[1;31mTypeError\u001b[0m: Unrecognized value type: <class 'str'>",
      "\nDuring handling of the above exception, another exception occurred:\n",
      "\u001b[1;31mValueError\u001b[0m                                Traceback (most recent call last)",
      "\u001b[1;32m<ipython-input-15-e164ddc20064>\u001b[0m in \u001b[0;36m<module>\u001b[1;34m()\u001b[0m\n\u001b[1;32m----> 1\u001b[1;33m \u001b[0minformation_notices\u001b[0m\u001b[1;33m[\u001b[0m\u001b[1;34m'Date'\u001b[0m\u001b[1;33m]\u001b[0m\u001b[1;33m=\u001b[0m\u001b[0mpd\u001b[0m\u001b[1;33m.\u001b[0m\u001b[0mto_datetime\u001b[0m\u001b[1;33m(\u001b[0m\u001b[0minformation_notices\u001b[0m\u001b[1;33m[\u001b[0m\u001b[1;34m'Date'\u001b[0m\u001b[1;33m]\u001b[0m\u001b[1;33m,\u001b[0m\u001b[0minfer_datetime_format\u001b[0m\u001b[1;33m=\u001b[0m\u001b[1;32mTrue\u001b[0m\u001b[1;33m)\u001b[0m\u001b[1;33m\u001b[0m\u001b[0m\n\u001b[0m",
      "\u001b[1;32m~\\AppData\\Local\\Continuum\\anaconda3\\lib\\site-packages\\pandas\\core\\tools\\datetimes.py\u001b[0m in \u001b[0;36mto_datetime\u001b[1;34m(arg, errors, dayfirst, yearfirst, utc, box, format, exact, unit, infer_datetime_format, origin, cache)\u001b[0m\n\u001b[0;32m    449\u001b[0m         \u001b[1;32melse\u001b[0m\u001b[1;33m:\u001b[0m\u001b[1;33m\u001b[0m\u001b[0m\n\u001b[0;32m    450\u001b[0m             \u001b[1;32mfrom\u001b[0m \u001b[0mpandas\u001b[0m \u001b[1;32mimport\u001b[0m \u001b[0mSeries\u001b[0m\u001b[1;33m\u001b[0m\u001b[0m\n\u001b[1;32m--> 451\u001b[1;33m             \u001b[0mvalues\u001b[0m \u001b[1;33m=\u001b[0m \u001b[0m_convert_listlike\u001b[0m\u001b[1;33m(\u001b[0m\u001b[0marg\u001b[0m\u001b[1;33m.\u001b[0m\u001b[0m_values\u001b[0m\u001b[1;33m,\u001b[0m \u001b[1;32mTrue\u001b[0m\u001b[1;33m,\u001b[0m \u001b[0mformat\u001b[0m\u001b[1;33m)\u001b[0m\u001b[1;33m\u001b[0m\u001b[0m\n\u001b[0m\u001b[0;32m    452\u001b[0m             \u001b[0mresult\u001b[0m \u001b[1;33m=\u001b[0m \u001b[0mSeries\u001b[0m\u001b[1;33m(\u001b[0m\u001b[0mvalues\u001b[0m\u001b[1;33m,\u001b[0m \u001b[0mindex\u001b[0m\u001b[1;33m=\u001b[0m\u001b[0marg\u001b[0m\u001b[1;33m.\u001b[0m\u001b[0mindex\u001b[0m\u001b[1;33m,\u001b[0m \u001b[0mname\u001b[0m\u001b[1;33m=\u001b[0m\u001b[0marg\u001b[0m\u001b[1;33m.\u001b[0m\u001b[0mname\u001b[0m\u001b[1;33m)\u001b[0m\u001b[1;33m\u001b[0m\u001b[0m\n\u001b[0;32m    453\u001b[0m     \u001b[1;32melif\u001b[0m \u001b[0misinstance\u001b[0m\u001b[1;33m(\u001b[0m\u001b[0marg\u001b[0m\u001b[1;33m,\u001b[0m \u001b[1;33m(\u001b[0m\u001b[0mABCDataFrame\u001b[0m\u001b[1;33m,\u001b[0m \u001b[0mMutableMapping\u001b[0m\u001b[1;33m)\u001b[0m\u001b[1;33m)\u001b[0m\u001b[1;33m:\u001b[0m\u001b[1;33m\u001b[0m\u001b[0m\n",
      "\u001b[1;32m~\\AppData\\Local\\Continuum\\anaconda3\\lib\\site-packages\\pandas\\core\\tools\\datetimes.py\u001b[0m in \u001b[0;36m_convert_listlike\u001b[1;34m(arg, box, format, name, tz)\u001b[0m\n\u001b[0;32m    378\u001b[0m                 \u001b[1;32mreturn\u001b[0m \u001b[0mDatetimeIndex\u001b[0m\u001b[1;33m.\u001b[0m\u001b[0m_simple_new\u001b[0m\u001b[1;33m(\u001b[0m\u001b[0mvalues\u001b[0m\u001b[1;33m,\u001b[0m \u001b[0mname\u001b[0m\u001b[1;33m=\u001b[0m\u001b[0mname\u001b[0m\u001b[1;33m,\u001b[0m \u001b[0mtz\u001b[0m\u001b[1;33m=\u001b[0m\u001b[0mtz\u001b[0m\u001b[1;33m)\u001b[0m\u001b[1;33m\u001b[0m\u001b[0m\n\u001b[0;32m    379\u001b[0m             \u001b[1;32mexcept\u001b[0m \u001b[1;33m(\u001b[0m\u001b[0mValueError\u001b[0m\u001b[1;33m,\u001b[0m \u001b[0mTypeError\u001b[0m\u001b[1;33m)\u001b[0m\u001b[1;33m:\u001b[0m\u001b[1;33m\u001b[0m\u001b[0m\n\u001b[1;32m--> 380\u001b[1;33m                 \u001b[1;32mraise\u001b[0m \u001b[0me\u001b[0m\u001b[1;33m\u001b[0m\u001b[0m\n\u001b[0m\u001b[0;32m    381\u001b[0m \u001b[1;33m\u001b[0m\u001b[0m\n\u001b[0;32m    382\u001b[0m     \u001b[1;32mif\u001b[0m \u001b[0marg\u001b[0m \u001b[1;32mis\u001b[0m \u001b[1;32mNone\u001b[0m\u001b[1;33m:\u001b[0m\u001b[1;33m\u001b[0m\u001b[0m\n",
      "\u001b[1;32m~\\AppData\\Local\\Continuum\\anaconda3\\lib\\site-packages\\pandas\\core\\tools\\datetimes.py\u001b[0m in \u001b[0;36m_convert_listlike\u001b[1;34m(arg, box, format, name, tz)\u001b[0m\n\u001b[0;32m    366\u001b[0m                     \u001b[0mdayfirst\u001b[0m\u001b[1;33m=\u001b[0m\u001b[0mdayfirst\u001b[0m\u001b[1;33m,\u001b[0m\u001b[1;33m\u001b[0m\u001b[0m\n\u001b[0;32m    367\u001b[0m                     \u001b[0myearfirst\u001b[0m\u001b[1;33m=\u001b[0m\u001b[0myearfirst\u001b[0m\u001b[1;33m,\u001b[0m\u001b[1;33m\u001b[0m\u001b[0m\n\u001b[1;32m--> 368\u001b[1;33m                     \u001b[0mrequire_iso8601\u001b[0m\u001b[1;33m=\u001b[0m\u001b[0mrequire_iso8601\u001b[0m\u001b[1;33m\u001b[0m\u001b[0m\n\u001b[0m\u001b[0;32m    369\u001b[0m                 )\n\u001b[0;32m    370\u001b[0m \u001b[1;33m\u001b[0m\u001b[0m\n",
      "\u001b[1;32mpandas\\_libs\\tslib.pyx\u001b[0m in \u001b[0;36mpandas._libs.tslib.array_to_datetime\u001b[1;34m()\u001b[0m\n",
      "\u001b[1;32mpandas\\_libs\\tslib.pyx\u001b[0m in \u001b[0;36mpandas._libs.tslib.array_to_datetime\u001b[1;34m()\u001b[0m\n",
      "\u001b[1;32mpandas\\_libs\\tslib.pyx\u001b[0m in \u001b[0;36mpandas._libs.tslib.array_to_datetime\u001b[1;34m()\u001b[0m\n",
      "\u001b[1;32mpandas\\_libs\\tslibs\\parsing.pyx\u001b[0m in \u001b[0;36mpandas._libs.tslibs.parsing.parse_datetime_string\u001b[1;34m()\u001b[0m\n",
      "\u001b[1;32m~\\AppData\\Local\\Continuum\\anaconda3\\lib\\site-packages\\dateutil\\parser\\_parser.py\u001b[0m in \u001b[0;36mparse\u001b[1;34m(timestr, parserinfo, **kwargs)\u001b[0m\n\u001b[0;32m   1354\u001b[0m         \u001b[1;32mreturn\u001b[0m \u001b[0mparser\u001b[0m\u001b[1;33m(\u001b[0m\u001b[0mparserinfo\u001b[0m\u001b[1;33m)\u001b[0m\u001b[1;33m.\u001b[0m\u001b[0mparse\u001b[0m\u001b[1;33m(\u001b[0m\u001b[0mtimestr\u001b[0m\u001b[1;33m,\u001b[0m \u001b[1;33m**\u001b[0m\u001b[0mkwargs\u001b[0m\u001b[1;33m)\u001b[0m\u001b[1;33m\u001b[0m\u001b[0m\n\u001b[0;32m   1355\u001b[0m     \u001b[1;32melse\u001b[0m\u001b[1;33m:\u001b[0m\u001b[1;33m\u001b[0m\u001b[0m\n\u001b[1;32m-> 1356\u001b[1;33m         \u001b[1;32mreturn\u001b[0m \u001b[0mDEFAULTPARSER\u001b[0m\u001b[1;33m.\u001b[0m\u001b[0mparse\u001b[0m\u001b[1;33m(\u001b[0m\u001b[0mtimestr\u001b[0m\u001b[1;33m,\u001b[0m \u001b[1;33m**\u001b[0m\u001b[0mkwargs\u001b[0m\u001b[1;33m)\u001b[0m\u001b[1;33m\u001b[0m\u001b[0m\n\u001b[0m\u001b[0;32m   1357\u001b[0m \u001b[1;33m\u001b[0m\u001b[0m\n\u001b[0;32m   1358\u001b[0m \u001b[1;33m\u001b[0m\u001b[0m\n",
      "\u001b[1;32m~\\AppData\\Local\\Continuum\\anaconda3\\lib\\site-packages\\dateutil\\parser\\_parser.py\u001b[0m in \u001b[0;36mparse\u001b[1;34m(self, timestr, default, ignoretz, tzinfos, **kwargs)\u001b[0m\n\u001b[0;32m    646\u001b[0m \u001b[1;33m\u001b[0m\u001b[0m\n\u001b[0;32m    647\u001b[0m         \u001b[1;32mif\u001b[0m \u001b[0mres\u001b[0m \u001b[1;32mis\u001b[0m \u001b[1;32mNone\u001b[0m\u001b[1;33m:\u001b[0m\u001b[1;33m\u001b[0m\u001b[0m\n\u001b[1;32m--> 648\u001b[1;33m             \u001b[1;32mraise\u001b[0m \u001b[0mValueError\u001b[0m\u001b[1;33m(\u001b[0m\u001b[1;34m\"Unknown string format:\"\u001b[0m\u001b[1;33m,\u001b[0m \u001b[0mtimestr\u001b[0m\u001b[1;33m)\u001b[0m\u001b[1;33m\u001b[0m\u001b[0m\n\u001b[0m\u001b[0;32m    649\u001b[0m \u001b[1;33m\u001b[0m\u001b[0m\n\u001b[0;32m    650\u001b[0m         \u001b[1;32mif\u001b[0m \u001b[0mlen\u001b[0m\u001b[1;33m(\u001b[0m\u001b[0mres\u001b[0m\u001b[1;33m)\u001b[0m \u001b[1;33m==\u001b[0m \u001b[1;36m0\u001b[0m\u001b[1;33m:\u001b[0m\u001b[1;33m\u001b[0m\u001b[0m\n",
      "\u001b[1;31mValueError\u001b[0m: ('Unknown string format:', 'Not Issued')"
     ]
    }
   ],
   "source": [
    "information_notices['Date']=pd.to_datetime(information_notices['Date'],infer_datetime_format=True)"
   ]
  },
  {
   "cell_type": "markdown",
   "metadata": {},
   "source": [
    "Inspection of the error indicates that the process failed because there is a \"Not Issues\" string in the information_notices date column, so we need to do some cleaning....."
   ]
  },
  {
   "cell_type": "code",
   "execution_count": 16,
   "metadata": {},
   "outputs": [
    {
     "data": {
      "text/html": [
       "<div>\n",
       "<style scoped>\n",
       "    .dataframe tbody tr th:only-of-type {\n",
       "        vertical-align: middle;\n",
       "    }\n",
       "\n",
       "    .dataframe tbody tr th {\n",
       "        vertical-align: top;\n",
       "    }\n",
       "\n",
       "    .dataframe thead th {\n",
       "        text-align: right;\n",
       "    }\n",
       "</style>\n",
       "<table border=\"1\" class=\"dataframe\">\n",
       "  <thead>\n",
       "    <tr style=\"text-align: right;\">\n",
       "      <th></th>\n",
       "      <th>Number</th>\n",
       "      <th>Title</th>\n",
       "      <th>Date</th>\n",
       "      <th>Link</th>\n",
       "    </tr>\n",
       "  </thead>\n",
       "  <tbody>\n",
       "    <tr>\n",
       "      <th>101</th>\n",
       "      <td>IN-81-17</td>\n",
       "      <td>NaN</td>\n",
       "      <td>Not Issued</td>\n",
       "      <td>https://www.nrc.gov/reading-rm/doc-collections...</td>\n",
       "    </tr>\n",
       "    <tr>\n",
       "      <th>1901</th>\n",
       "      <td>IN-11-18</td>\n",
       "      <td>NaN</td>\n",
       "      <td>Not Issued</td>\n",
       "      <td>https://www.nrc.gov/reading-rm/doc-collections...</td>\n",
       "    </tr>\n",
       "    <tr>\n",
       "      <th>1903</th>\n",
       "      <td>IN-11-16</td>\n",
       "      <td>NaN</td>\n",
       "      <td>Not Issued</td>\n",
       "      <td>https://www.nrc.gov/reading-rm/doc-collections...</td>\n",
       "    </tr>\n",
       "  </tbody>\n",
       "</table>\n",
       "</div>"
      ],
      "text/plain": [
       "        Number Title        Date  \\\n",
       "101   IN-81-17   NaN  Not Issued   \n",
       "1901  IN-11-18   NaN  Not Issued   \n",
       "1903  IN-11-16   NaN  Not Issued   \n",
       "\n",
       "                                                   Link  \n",
       "101   https://www.nrc.gov/reading-rm/doc-collections...  \n",
       "1901  https://www.nrc.gov/reading-rm/doc-collections...  \n",
       "1903  https://www.nrc.gov/reading-rm/doc-collections...  "
      ]
     },
     "execution_count": 16,
     "metadata": {},
     "output_type": "execute_result"
    }
   ],
   "source": [
    "information_notices[information_notices['Date'] == 'Not Issued'].head(3)"
   ]
  },
  {
   "cell_type": "markdown",
   "metadata": {},
   "source": [
    "In these cases, the documents were not issued.  For our purposes, we do not need to know about information notices that were not issued, so we can drop them."
   ]
  },
  {
   "cell_type": "markdown",
   "metadata": {},
   "source": [
    "We also have some supplements, which are revisions to the information notices, numbered with S1, S2, etc.  We don't care about those, either, for this project, since the topics are the same.  What we really want is the number of new operating experiences issued, and we don't want to include supplements in this total.  For example, searching for the second supplements S2:"
   ]
  },
  {
   "cell_type": "code",
   "execution_count": 17,
   "metadata": {},
   "outputs": [
    {
     "data": {
      "text/html": [
       "<div>\n",
       "<style scoped>\n",
       "    .dataframe tbody tr th:only-of-type {\n",
       "        vertical-align: middle;\n",
       "    }\n",
       "\n",
       "    .dataframe tbody tr th {\n",
       "        vertical-align: top;\n",
       "    }\n",
       "\n",
       "    .dataframe thead th {\n",
       "        text-align: right;\n",
       "    }\n",
       "</style>\n",
       "<table border=\"1\" class=\"dataframe\">\n",
       "  <thead>\n",
       "    <tr style=\"text-align: right;\">\n",
       "      <th></th>\n",
       "      <th>Number</th>\n",
       "      <th>Title</th>\n",
       "      <th>Date</th>\n",
       "      <th>Link</th>\n",
       "    </tr>\n",
       "  </thead>\n",
       "  <tbody>\n",
       "    <tr>\n",
       "      <th>456</th>\n",
       "      <td>S2</td>\n",
       "      <td>11/19/1987</td>\n",
       "      <td>NaN</td>\n",
       "      <td>https://www.nrc.gov/reading-rm/doc-collections...</td>\n",
       "    </tr>\n",
       "    <tr>\n",
       "      <th>460</th>\n",
       "      <td>S2</td>\n",
       "      <td>03/18/1987</td>\n",
       "      <td>NaN</td>\n",
       "      <td>https://www.nrc.gov/reading-rm/doc-collections...</td>\n",
       "    </tr>\n",
       "    <tr>\n",
       "      <th>695</th>\n",
       "      <td>S2</td>\n",
       "      <td>12/30/1988</td>\n",
       "      <td>NaN</td>\n",
       "      <td>https://www.nrc.gov/reading-rm/doc-collections...</td>\n",
       "    </tr>\n",
       "  </tbody>\n",
       "</table>\n",
       "</div>"
      ],
      "text/plain": [
       "    Number       Title Date                                               Link\n",
       "456     S2  11/19/1987  NaN  https://www.nrc.gov/reading-rm/doc-collections...\n",
       "460     S2  03/18/1987  NaN  https://www.nrc.gov/reading-rm/doc-collections...\n",
       "695     S2  12/30/1988  NaN  https://www.nrc.gov/reading-rm/doc-collections..."
      ]
     },
     "execution_count": 17,
     "metadata": {},
     "output_type": "execute_result"
    }
   ],
   "source": [
    "information_notices[information_notices['Number'] == 'S2'].head(3)"
   ]
  },
  {
   "cell_type": "markdown",
   "metadata": {},
   "source": [
    "If we look at the above, the unissued items have no titles (\"NaN\"), and the dates for the supplements in the dataset are \"NaN\" due to an offset when scraping the data from the public website.  To remove these items, we can simply use dropna:"
   ]
  },
  {
   "cell_type": "code",
   "execution_count": 18,
   "metadata": {},
   "outputs": [],
   "source": [
    "information_notices = information_notices.dropna()"
   ]
  },
  {
   "cell_type": "markdown",
   "metadata": {},
   "source": [
    "Now, time to convert the cleaned dataframe dates:"
   ]
  },
  {
   "cell_type": "code",
   "execution_count": 19,
   "metadata": {},
   "outputs": [],
   "source": [
    "information_notices['Date']=pd.to_datetime(information_notices['Date'],infer_datetime_format=True)"
   ]
  },
  {
   "cell_type": "code",
   "execution_count": 20,
   "metadata": {},
   "outputs": [
    {
     "data": {
      "text/html": [
       "<div>\n",
       "<style scoped>\n",
       "    .dataframe tbody tr th:only-of-type {\n",
       "        vertical-align: middle;\n",
       "    }\n",
       "\n",
       "    .dataframe tbody tr th {\n",
       "        vertical-align: top;\n",
       "    }\n",
       "\n",
       "    .dataframe thead th {\n",
       "        text-align: right;\n",
       "    }\n",
       "</style>\n",
       "<table border=\"1\" class=\"dataframe\">\n",
       "  <thead>\n",
       "    <tr style=\"text-align: right;\">\n",
       "      <th></th>\n",
       "      <th>DataType</th>\n",
       "    </tr>\n",
       "  </thead>\n",
       "  <tbody>\n",
       "    <tr>\n",
       "      <th>Number</th>\n",
       "      <td>object</td>\n",
       "    </tr>\n",
       "    <tr>\n",
       "      <th>Title</th>\n",
       "      <td>object</td>\n",
       "    </tr>\n",
       "    <tr>\n",
       "      <th>Date</th>\n",
       "      <td>datetime64[ns]</td>\n",
       "    </tr>\n",
       "    <tr>\n",
       "      <th>Link</th>\n",
       "      <td>object</td>\n",
       "    </tr>\n",
       "  </tbody>\n",
       "</table>\n",
       "</div>"
      ],
      "text/plain": [
       "              DataType\n",
       "Number          object\n",
       "Title           object\n",
       "Date    datetime64[ns]\n",
       "Link            object"
      ]
     },
     "execution_count": 20,
     "metadata": {},
     "output_type": "execute_result"
    }
   ],
   "source": [
    "pd.DataFrame(information_notices.dtypes, columns=['DataType'])"
   ]
  },
  {
   "cell_type": "markdown",
   "metadata": {},
   "source": [
    "Success!  OK, let's look at some plots....."
   ]
  },
  {
   "cell_type": "markdown",
   "metadata": {},
   "source": [
    "#### Investigation of data\n",
    "Let's delve into the data a bit, and explore some features, starting with licensee event reports, which are reports made by nuclear power plant licensees when certain issues occur:"
   ]
  },
  {
   "cell_type": "code",
   "execution_count": 21,
   "metadata": {},
   "outputs": [
    {
     "data": {
      "text/plain": [
       "Plant Name\n",
       "Arkansas 1                                         82\n",
       "Arkansas 1, Arkansas 2                             25\n",
       "Arkansas 2                                         96\n",
       "Arkansas 2, Arkansas 1                              7\n",
       "Beaver Valley 1                                   165\n",
       "Beaver Valley 1, Beaver Valley 2                   65\n",
       "Beaver Valley 2                                   112\n",
       "Beaver Valley 2, Beaver Valley 1                   16\n",
       "Big Rock Point                                     78\n",
       "Braidwood 1                                        88\n",
       "Braidwood 1, Braidwood 2                           67\n",
       "Braidwood 2                                        80\n",
       "Braidwood 2, Braidwood 1                            4\n",
       "Browns Ferry 1                                     46\n",
       "Browns Ferry 1, Browns Ferry 2                      6\n",
       "Browns Ferry 1, Browns Ferry 2, Browns Ferry 3     52\n",
       "Browns Ferry 1, Browns Ferry 3                      2\n",
       "Browns Ferry 2                                    124\n",
       "Browns Ferry 2, Browns Ferry 1                      2\n",
       "Browns Ferry 2, Browns Ferry 1, Browns Ferry 3     11\n",
       "Browns Ferry 2, Browns Ferry 3                     17\n",
       "Browns Ferry 3                                    102\n",
       "Browns Ferry 3, Browns Ferry 1                      1\n",
       "Browns Ferry 3, Browns Ferry 1, Browns Ferry 2      6\n",
       "Browns Ferry 3, Browns Ferry 2                      5\n",
       "Brunswick 1                                       117\n",
       "Brunswick 1, Brunswick 2                          103\n",
       "Brunswick 2                                       111\n",
       "Brunswick 2, Brunswick 1                            5\n",
       "Byron 1                                            63\n",
       "                                                 ... \n",
       "Surry 1                                            61\n",
       "Surry 1, Surry 2                                   85\n",
       "Surry 2                                            73\n",
       "Surry 2, Surry 1                                    5\n",
       "Susquehanna 1                                     119\n",
       "Susquehanna 1, Susquehanna 2                      162\n",
       "Susquehanna 2                                     120\n",
       "Susquehanna 2, Susquehanna 1                       31\n",
       "Three Mile Island 1                               103\n",
       "Three Mile Island 2                                10\n",
       "Trojan                                             79\n",
       "Turkey Point 3                                    107\n",
       "Turkey Point 3, Turkey Point 4                     41\n",
       "Turkey Point 4                                     63\n",
       "Turkey Point 4, Turkey Point 3                     10\n",
       "Vermont Yankee                                    204\n",
       "Vogtle 1                                          101\n",
       "Vogtle 1, Vogtle 2                                 32\n",
       "Vogtle 2                                           96\n",
       "Vogtle 2, Vogtle 1                                  3\n",
       "Waterford 3                                       249\n",
       "Watts Bar 1                                       139\n",
       "Watts Bar 1, Watts Bar 2                           15\n",
       "Watts Bar 2                                        21\n",
       "Wolf Creek                                        252\n",
       "Yankee-Rowe                                        12\n",
       "Zion 1                                             38\n",
       "Zion 1, Zion 2                                    109\n",
       "Zion 2                                             34\n",
       "Zion 2, Zion 1                                     20\n",
       "Name: LER Number, Length: 213, dtype: int64"
      ]
     },
     "execution_count": 21,
     "metadata": {},
     "output_type": "execute_result"
    }
   ],
   "source": [
    "licensee_event_reports.groupby('Plant Name')['LER Number'].count()"
   ]
  },
  {
   "cell_type": "markdown",
   "metadata": {},
   "source": [
    "What we see here is that sites with multiple plants may report as one plant, two plants, three, or a combination of these if an issue impacts more than one unit at the site.  Depending on how you want to analyze the date, this may be OK, or you may want to aggregate the units by site.  Let's create a code for the site.  The first five letters of each of the entries should do the trick for our purposes:"
   ]
  },
  {
   "cell_type": "code",
   "execution_count": 70,
   "metadata": {},
   "outputs": [
    {
     "data": {
      "text/html": [
       "<div>\n",
       "<style scoped>\n",
       "    .dataframe tbody tr th:only-of-type {\n",
       "        vertical-align: middle;\n",
       "    }\n",
       "\n",
       "    .dataframe tbody tr th {\n",
       "        vertical-align: top;\n",
       "    }\n",
       "\n",
       "    .dataframe thead th {\n",
       "        text-align: right;\n",
       "    }\n",
       "</style>\n",
       "<table border=\"1\" class=\"dataframe\">\n",
       "  <thead>\n",
       "    <tr style=\"text-align: right;\">\n",
       "      <th></th>\n",
       "      <th>LER Number</th>\n",
       "      <th>Plant Name</th>\n",
       "      <th>Event Date</th>\n",
       "      <th>Report Date</th>\n",
       "      <th>Accession #</th>\n",
       "      <th>Title</th>\n",
       "      <th>Sites</th>\n",
       "    </tr>\n",
       "  </thead>\n",
       "  <tbody>\n",
       "    <tr>\n",
       "      <th>0</th>\n",
       "      <td>291991001</td>\n",
       "      <td>Yankee-Rowe</td>\n",
       "      <td>1991-02-26</td>\n",
       "      <td>1991-03-28</td>\n",
       "      <td>9104030139</td>\n",
       "      <td>&lt;strong&gt;Inadequate Quality Controls Result in ...</td>\n",
       "      <td>Yanke</td>\n",
       "    </tr>\n",
       "    <tr>\n",
       "      <th>1</th>\n",
       "      <td>291991002</td>\n",
       "      <td>Yankee-Rowe</td>\n",
       "      <td>1991-06-15</td>\n",
       "      <td>1991-07-16</td>\n",
       "      <td>9107220232</td>\n",
       "      <td>&lt;strong&gt;Reactor Scram/Turbine Trip and Loss of...</td>\n",
       "      <td>Yanke</td>\n",
       "    </tr>\n",
       "    <tr>\n",
       "      <th>2</th>\n",
       "      <td>291991003</td>\n",
       "      <td>Yankee-Rowe</td>\n",
       "      <td>1991-08-01</td>\n",
       "      <td>1991-08-30</td>\n",
       "      <td>9109040225</td>\n",
       "      <td>&lt;strong&gt;Failure to Perform Surveillances Requi...</td>\n",
       "      <td>Yanke</td>\n",
       "    </tr>\n",
       "    <tr>\n",
       "      <th>3</th>\n",
       "      <td>291991004</td>\n",
       "      <td>Yankee-Rowe</td>\n",
       "      <td>1991-08-03</td>\n",
       "      <td>1991-09-02</td>\n",
       "      <td>9109040086</td>\n",
       "      <td>&lt;strong&gt;Reactor Scram Due To Loss Of Generator...</td>\n",
       "      <td>Yanke</td>\n",
       "    </tr>\n",
       "    <tr>\n",
       "      <th>4</th>\n",
       "      <td>291991005</td>\n",
       "      <td>Yankee-Rowe</td>\n",
       "      <td>1991-11-05</td>\n",
       "      <td>1991-12-04</td>\n",
       "      <td>9112090331</td>\n",
       "      <td>&lt;strong&gt;All Emergency Diesel Generators Declar...</td>\n",
       "      <td>Yanke</td>\n",
       "    </tr>\n",
       "  </tbody>\n",
       "</table>\n",
       "</div>"
      ],
      "text/plain": [
       "   LER Number   Plant Name Event Date Report Date Accession #  \\\n",
       "0   291991001  Yankee-Rowe 1991-02-26  1991-03-28  9104030139   \n",
       "1   291991002  Yankee-Rowe 1991-06-15  1991-07-16  9107220232   \n",
       "2   291991003  Yankee-Rowe 1991-08-01  1991-08-30  9109040225   \n",
       "3   291991004  Yankee-Rowe 1991-08-03  1991-09-02  9109040086   \n",
       "4   291991005  Yankee-Rowe 1991-11-05  1991-12-04  9112090331   \n",
       "\n",
       "                                               Title  Sites  \n",
       "0  <strong>Inadequate Quality Controls Result in ...  Yanke  \n",
       "1  <strong>Reactor Scram/Turbine Trip and Loss of...  Yanke  \n",
       "2  <strong>Failure to Perform Surveillances Requi...  Yanke  \n",
       "3  <strong>Reactor Scram Due To Loss Of Generator...  Yanke  \n",
       "4  <strong>All Emergency Diesel Generators Declar...  Yanke  "
      ]
     },
     "execution_count": 70,
     "metadata": {},
     "output_type": "execute_result"
    }
   ],
   "source": [
    "ler_sites = licensee_event_reports['Plant Name'].str[:5]\n",
    "licensee_event_reports['Sites']=ler_sites\n",
    "licensee_event_reports.head(5)"
   ]
  },
  {
   "cell_type": "markdown",
   "metadata": {},
   "source": [
    "Now, we can aggregate by site if we like:"
   ]
  },
  {
   "cell_type": "code",
   "execution_count": 73,
   "metadata": {},
   "outputs": [
    {
     "data": {
      "text/plain": [
       "Sites\n",
       "Arkan    210\n",
       "Beave    358\n",
       "Big R     78\n",
       "Braid    239\n",
       "Brown    374\n",
       "Bruns    336\n",
       "Byron    191\n",
       "Calla    185\n",
       "Calve    198\n",
       "Cataw    253\n",
       "Clint    249\n",
       "Colum    271\n",
       "Coman    248\n",
       "Cook     342\n",
       "Coope    299\n",
       "Cryst    226\n",
       "Davis    154\n",
       "Diabl    332\n",
       "Dresd    495\n",
       "Duane    187\n",
       "Farle    214\n",
       "Fermi    220\n",
       "FitzP    277\n",
       "Fort     272\n",
       "Ginna    130\n",
       "Grand    194\n",
       "Hadda    179\n",
       "Harri    208\n",
       "Hatch    368\n",
       "Hope     292\n",
       "        ... \n",
       "Palo     357\n",
       "Peach    282\n",
       "Perry    217\n",
       "Pilgr    272\n",
       "Point    299\n",
       "Prair    266\n",
       "Quad     402\n",
       "Ranch      1\n",
       "River    285\n",
       "Robin    160\n",
       "Salem    478\n",
       "San O    304\n",
       "Seabr    185\n",
       "Sequo    292\n",
       "Shore      4\n",
       "South    306\n",
       "St. L    278\n",
       "Summe    150\n",
       "Surry    224\n",
       "Susqu    432\n",
       "Three    113\n",
       "Troja     79\n",
       "Turke    221\n",
       "Vermo    204\n",
       "Vogtl    232\n",
       "Water    249\n",
       "Watts    175\n",
       "Wolf     252\n",
       "Yanke     12\n",
       "Zion     201\n",
       "Name: LER Number, Length: 75, dtype: int64"
      ]
     },
     "execution_count": 73,
     "metadata": {},
     "output_type": "execute_result"
    }
   ],
   "source": [
    "licensee_event_reports.groupby('Sites')['LER Number'].count()"
   ]
  },
  {
   "cell_type": "markdown",
   "metadata": {},
   "source": [
    "We can also look at the number of information notices by year:"
   ]
  },
  {
   "cell_type": "code",
   "execution_count": 22,
   "metadata": {},
   "outputs": [
    {
     "data": {
      "text/plain": [
       "Date\n",
       "1979     38\n",
       "1980     43\n",
       "1981     32\n",
       "1982     60\n",
       "1983     81\n",
       "1984     90\n",
       "1985    100\n",
       "1986    104\n",
       "1987     66\n",
       "1988     94\n",
       "1989     87\n",
       "1990     83\n",
       "1991     93\n",
       "1992     82\n",
       "1993     97\n",
       "1994     97\n",
       "1995     61\n",
       "1996     71\n",
       "1997     96\n",
       "1998     49\n",
       "1999     36\n",
       "2000     22\n",
       "2001     20\n",
       "2002     33\n",
       "2003     24\n",
       "2004     23\n",
       "2005     33\n",
       "2006     32\n",
       "2007     41\n",
       "2008     21\n",
       "2009     30\n",
       "2010     27\n",
       "2011     20\n",
       "2012     23\n",
       "2013     22\n",
       "2014     15\n",
       "2015     12\n",
       "2016     13\n",
       "2017      7\n",
       "2018     11\n",
       "2019     13\n",
       "Name: Number, dtype: int64"
      ]
     },
     "execution_count": 22,
     "metadata": {},
     "output_type": "execute_result"
    }
   ],
   "source": [
    "information_notices['Number'].groupby(information_notices.Date.dt.year).count()\n"
   ]
  },
  {
   "cell_type": "markdown",
   "metadata": {},
   "source": [
    "We can also list the number of generic safety issues by year:"
   ]
  },
  {
   "cell_type": "code",
   "execution_count": 74,
   "metadata": {},
   "outputs": [
    {
     "data": {
      "text/plain": [
       "Date\n",
       "1979.0     38\n",
       "1980.0     43\n",
       "1981.0     32\n",
       "1982.0     60\n",
       "1983.0     81\n",
       "1984.0     90\n",
       "1985.0    100\n",
       "1986.0    103\n",
       "1987.0     66\n",
       "1988.0     94\n",
       "1989.0     87\n",
       "1990.0     20\n",
       "1991.0     10\n",
       "1993.0      1\n",
       "1994.0      2\n",
       "1995.0      2\n",
       "1997.0      1\n",
       "1998.0      1\n",
       "1999.0      1\n",
       "2003.0      1\n",
       "Name: Issue Title, dtype: int64"
      ]
     },
     "execution_count": 74,
     "metadata": {},
     "output_type": "execute_result"
    }
   ],
   "source": [
    "generic_safety_issues['Issue Title'].groupby(information_notices.Date.dt.year).count()"
   ]
  },
  {
   "cell_type": "markdown",
   "metadata": {},
   "source": [
    "#### Plotting General Trends of Interest\n",
    "Let's take a look at the yearly trends for each of these datasets:"
   ]
  },
  {
   "cell_type": "code",
   "execution_count": 62,
   "metadata": {},
   "outputs": [
    {
     "data": {
      "image/png": "[encoded data removed]",
      "text/plain": [
       "<Figure size 1080x432 with 1 Axes>"
      ]
     },
     "metadata": {},
     "output_type": "display_data"
    }
   ],
   "source": [
    "ax = information_notices.Date.dt.year.hist(bins=30, figsize=(15,6))\n",
    "ax.set_title('Information Notices by Year', fontsize=16);\n",
    "ax.set_xlabel('Year', fontsize=16);\n",
    "ax.set_ylabel('Number', fontsize=16);"
   ]
  },
  {
   "cell_type": "markdown",
   "metadata": {},
   "source": [
    "From the above, it seems that the number of information notices by year were most prevalent in the 1980s, then deccreased in the 1990s, and held relatively steady throughout the 2000s.  A local minimum seems to occur in 2018."
   ]
  },
  {
   "cell_type": "code",
   "execution_count": 63,
   "metadata": {},
   "outputs": [
    {
     "data": {
      "image/png": "[encoded data removed]",
      "text/plain": [
       "<Figure size 1080x432 with 1 Axes>"
      ]
     },
     "metadata": {},
     "output_type": "display_data"
    }
   ],
   "source": [
    "ax = licensee_event_reports['Report Date'].dt.year.hist(bins=25, figsize=(15,6))\n",
    "ax.set_title('Licensee Event Reports by Year', fontsize=16);\n",
    "ax.set_xlabel('Year', fontsize=16);\n",
    "ax.set_ylabel('Number', fontsize=16);"
   ]
  },
  {
   "cell_type": "markdown",
   "metadata": {},
   "source": [
    "From the above, it seems that the number of licensee event reports were much higher i the 1990s that in years after 2000.  A generally downward trend appears to occur after 2016."
   ]
  },
  {
   "cell_type": "code",
   "execution_count": 60,
   "metadata": {},
   "outputs": [
    {
     "data": {
      "image/png": "[encoded data removed]",
      "text/plain": [
       "<Figure size 1080x432 with 1 Axes>"
      ]
     },
     "metadata": {},
     "output_type": "display_data"
    }
   ],
   "source": [
    "ax = generic_safety_issues['Date of Identification'].dt.year.hist(bins=25, figsize=(15,6))\n",
    "ax.set_title('Generic Safety Issue Identification by Year', fontsize=16);\n",
    "ax.set_xlabel('Year', fontsize=16);\n",
    "ax.set_ylabel('Number', fontsize=16);"
   ]
  },
  {
   "cell_type": "markdown",
   "metadata": {},
   "source": [
    "The above plot shows that there were a large number of generic safety issues identified from 1975 to 1990.  A much lower number have been identified since 1991."
   ]
  },
  {
   "cell_type": "code",
   "execution_count": 61,
   "metadata": {},
   "outputs": [
    {
     "data": {
      "image/png": "[encoded data removed]",
      "text/plain": [
       "<Figure size 1080x432 with 1 Axes>"
      ]
     },
     "metadata": {},
     "output_type": "display_data"
    }
   ],
   "source": [
    "ax = generic_safety_issues['Date of Resolution'].dt.year.hist(bins=25, figsize=(15,6))\n",
    "ax.set_title('Generic Safety Issue Resolution by Year', fontsize=16);\n",
    "ax.set_xlabel('Year', fontsize=16);\n",
    "ax.set_ylabel('Number', fontsize=16);"
   ]
  },
  {
   "cell_type": "markdown",
   "metadata": {},
   "source": [
    "The above plot shows that most generic safety issues were resolved by the year 2000.  Interestingly, the number of resolved generic safety issues increased from 2005 to 2010."
   ]
  },
  {
   "cell_type": "markdown",
   "metadata": {},
   "source": [
    "We can also look into the licensee event report trend for individual sites, for example, at Surry Power Station:"
   ]
  },
  {
   "cell_type": "code",
   "execution_count": 80,
   "metadata": {},
   "outputs": [
    {
     "data": {
      "image/png": "[encoded data removed]",
      "text/plain": [
       "<Figure size 1080x432 with 1 Axes>"
      ]
     },
     "metadata": {},
     "output_type": "display_data"
    }
   ],
   "source": [
    "ax = licensee_event_reports[licensee_event_reports['Sites']=='Surry']['Report Date'].dt.year.hist(bins=25, figsize=(15,6))\n",
    "ax.set_title('Licensee Event Reports by Year for Site Surry', fontsize=16);\n",
    "ax.set_xlabel('Year', fontsize=16);\n",
    "ax.set_ylabel('Number', fontsize=16);"
   ]
  },
  {
   "cell_type": "markdown",
   "metadata": {},
   "source": [
    "Or even focus our attention on a single unit:"
   ]
  },
  {
   "cell_type": "code",
   "execution_count": 81,
   "metadata": {},
   "outputs": [
    {
     "data": {
      "image/png": "[encoded data removed]",
      "text/plain": [
       "<Figure size 1080x432 with 1 Axes>"
      ]
     },
     "metadata": {},
     "output_type": "display_data"
    }
   ],
   "source": [
    "ax = licensee_event_reports[licensee_event_reports['Plant Name']=='Surry 1']['Report Date'].dt.year.hist(bins=25, figsize=(15,6))\n",
    "ax.set_title('Licensee Event Reports by Year for Site Surry', fontsize=16);\n",
    "ax.set_xlabel('Year', fontsize=16);\n",
    "ax.set_ylabel('Number', fontsize=16);"
   ]
  },
  {
   "cell_type": "markdown",
   "metadata": {},
   "source": [
    "#### Clearly identify shortcomings, assumptions, and next steps\n",
    "\n",
    "The data I have been able to collect and scrape from the NRC public website is fairly limited with respect to numerical measures.  Unfortunately, this project can only utilize public datasets.  I could possibly add more datasets, but these represent the ones with the most occurrences so I'm not sure adding other available items makes sense at this point.\n",
    "\n",
    "Next steps, I would like to employ natural language processing to the text collected from each dataset to see if I can determine any trends between sites or as a funciton of time.\n",
    "\n",
    "I may also want to explore the trends of these datasets following major events in the nuclear industry on an industry (or site) level."
   ]
  },
  {
   "cell_type": "markdown",
   "metadata": {},
   "source": [
    "#### Other possibilities (total left turn from public NRC data):\n",
    "\n",
    "As I'm sure is the case for everyone, our work is focusing heavily on the COVID-19 outbreak.  I've been tracking and trending the outbreak for a while now, and constructed a website and visualizations in tableau using, in particular, the skills gained in this course (particularly the use of Git).  \n",
    "\n",
    "The website I created using data gleaned from the John's Hopkins Center for Systems Science and Engineering (thankfully, they publish their data each evening on GitHub) is available at https://www.bitsoftruth.com/covid-19.  The embedded visuals are also available at: https://public.tableau.com/profile/jason.carneal#!/ \n",
    "\n",
    "At work, I've been asked to create visualizations on the impacts of COVID-19 using Tableau and PowerBI for management.  Luckily, using skills from this course, I was able to turn it around quickly.  \n",
    "\n",
    "Another possibility would be to pivot my final project to analyzing the COVID-19 outbreak and comparing it to flu data from CDC.  "
   ]
  },
  {
   "cell_type": "code",
   "execution_count": null,
   "metadata": {},
   "outputs": [],
   "source": []
  }
 ],
 "metadata": {
  "kernelspec": {
   "display_name": "Python 3",
   "language": "python",
   "name": "python3"
  },
  "language_info": {
   "codemirror_mode": {
    "name": "ipython",
    "version": 3
   },
   "file_extension": ".py",
   "mimetype": "text/x-python",
   "name": "python",
   "nbconvert_exporter": "python",
   "pygments_lexer": "ipython3",
   "version": "3.6.5"
  }
 },
 "nbformat": 4,
 "nbformat_minor": 2
}
